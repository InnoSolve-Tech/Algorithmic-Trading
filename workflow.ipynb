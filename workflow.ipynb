{
 "cells": [
  {
   "cell_type": "markdown",
   "metadata": {},
   "source": [
    "# Importing modules"
   ]
  },
  {
   "cell_type": "code",
   "execution_count": null,
   "metadata": {},
   "outputs": [],
   "source": [
    "import MetaTrader5 as mt5\n",
    "import functions as fp"
   ]
  },
  {
   "cell_type": "markdown",
   "metadata": {},
   "source": [
    "## Connecting to MT5 server"
   ]
  },
  {
   "cell_type": "code",
   "execution_count": null,
   "metadata": {},
   "outputs": [],
   "source": [
    "mt5.initialize()"
   ]
  },
  {
   "cell_type": "markdown",
   "metadata": {},
   "source": [
    "## Login to MT5"
   ]
  },
  {
   "cell_type": "code",
   "execution_count": null,
   "metadata": {},
   "outputs": [],
   "source": [
    "login = input('Enter your login: ')\n",
    "password = input('Enter your password: ')\n",
    "server = input('Enter the server name: ')\n",
    "\n",
    "# Use a default port value if the user does not provide input\n",
    "port = input('Enter the server port: ')\n",
    "if not port:\n",
    "    port = 8222\n",
    "else:\n",
    "    port = int(port)\n",
    "\n",
    "# Attempt to log in to the server and handle any errors that may occur\n",
    "try:\n",
    "    result = mt5.login(login, password, server, port)\n",
    "    if result == 0:\n",
    "        print('Successfully logged in')\n",
    "    else:\n",
    "        print('Login failed')\n",
    "except Exception as e:\n",
    "    print(f'An error occurred while attempting to log in: {e}')"
   ]
  },
  {
   "cell_type": "markdown",
   "metadata": {},
   "source": [
    "## Getting data from high frequency server"
   ]
  },
  {
   "cell_type": "code",
   "execution_count": null,
   "metadata": {},
   "outputs": [],
   "source": [
    "# Get data for the past 24hrs\n",
    "data = fp.fetchPastData()\n",
    "# Filter data \n",
    "data = fp.filterData(data)\n",
    "# Calculate EMA, RSI, ATR, and MACD \n",
    "data = fp.calcTools(data)\n",
    "# Store in JSON\n",
    "data.to_csv('./pastdata.csv', index=False)\n"
   ]
  },
  {
   "cell_type": "markdown",
   "metadata": {},
   "source": [
    "## Create and store orders in order book."
   ]
  },
  {
   "cell_type": "code",
   "execution_count": null,
   "metadata": {},
   "outputs": [],
   "source": [
    "# Visualize trends (Give feedback)\n",
    "fp.displayTicks(data)\n",
    "# Use trading strategy\n",
    "while(True):\n",
    "    fp.someStrategy()\n",
    "    break\n",
    "    "
   ]
  },
  {
   "cell_type": "markdown",
   "metadata": {},
   "source": [
    "## Shutdown MT5."
   ]
  },
  {
   "cell_type": "code",
   "execution_count": null,
   "metadata": {},
   "outputs": [],
   "source": [
    "mt5.shutdown()"
   ]
  }
 ],
 "metadata": {
  "kernelspec": {
   "display_name": "Python 3",
   "language": "python",
   "name": "python3"
  },
  "language_info": {
   "codemirror_mode": {
    "name": "ipython",
    "version": 3
   },
   "file_extension": ".py",
   "mimetype": "text/x-python",
   "name": "python",
   "nbconvert_exporter": "python",
   "pygments_lexer": "ipython3",
   "version": "3.11.7"
  }
 },
 "nbformat": 4,
 "nbformat_minor": 2
}
